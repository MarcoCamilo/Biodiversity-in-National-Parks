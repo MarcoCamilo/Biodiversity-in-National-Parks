{
 "cells": [
  {
   "cell_type": "markdown",
   "metadata": {},
   "source": [
    "# Biodiversity in National Parks"
   ]
  },
  {
   "cell_type": "markdown",
   "metadata": {},
   "source": [
    "This project investigates biodiversity data from the National Parks Service about endangered species in various parks, especially on the conservation statuses of these species, to see if there are any patterns to the types of species that become endangered. \n",
    "\n",
    "The aim of this project will be to scope, clean up, analyze, plot data, and seek to explain findings from the analysis in a meaningful way.\n",
    "\n",
    "**Sources:**\n",
    "Both `Observations.csv` and `Species_info.csv` was provided by [Codecademy.com](https://www.codecademy.com).\n",
    "\n",
    "Note: The data for this project is mostly fictional, inspired by real data."
   ]
  },
  {
   "cell_type": "markdown",
   "metadata": {},
   "source": [
    "## Scoping\n",
    "\n",
    "### Project Goals\n",
    "\n",
    "The project will analyze data from the National Parks Service, with the goal of understanding characteristics about the species and their conservations status, and those species and their relationship to the national parks.\n",
    "\n",
    "Some of the questions to be tackled include:\n",
    "- What is the distribution of conservation status for animals?\n",
    "- Are certain types of species more likely to be endangered?\n",
    "- Are the differences between species and their conservation status significant?\n",
    "- Which species were spotted the most at each park?\n",
    "\n",
    "### Data\n",
    "\n",
    "The project has two datasets that came with the .zip file used. The first `.csv` file contains data about different species and their conservation status. The second `.csv` file holds recorded sightings of different species at several national parks for the past 7 days.\n",
    "\n",
    "### Analysis \n",
    "\n",
    "The analysis consists of the use of descriptive statistics and data visualization techniques to understand the data. Some of the key metrics that will be computed include: \n",
    "\n",
    "1. Distribution and counts of conservation statuses\n",
    "2. Amount of intervention per species category\n",
    "3. P-values for animal pairs vs conservation statuses\n",
    "4. Number of observations per park and species category \n",
    "\n",
    "### Evaluation\n",
    "\n",
    "Lastly, I'll revisit the project's goals and summarize the output of the analysis using the initally stated questions. Any open questions will also be suggested which can include limitations in the analysis or suggestions on additional questions that can be answered with the data."
   ]
  },
  {
   "cell_type": "markdown",
   "metadata": {},
   "source": [
    "## Importing Modules and Data from Files"
   ]
  },
  {
   "cell_type": "markdown",
   "metadata": {},
   "source": [
    "First, I'll import the preliminary modules for this project, along with the data from the two separate files provided for this analysis."
   ]
  },
  {
   "cell_type": "code",
   "execution_count": 180,
   "metadata": {},
   "outputs": [],
   "source": [
    "import pandas as pd\n",
    "import numpy as np\n",
    "import statsmodels as st\n",
    "from matplotlib import pyplot as plt\n",
    "import seaborn as sns\n",
    "from glob import glob\n",
    "\n",
    "\n",
    "observations = pd.read_csv('observations.csv')\n",
    "species = pd.read_csv('species_info.csv')"
   ]
  },
  {
   "cell_type": "markdown",
   "metadata": {},
   "source": [
    "## Data Characteristics"
   ]
  },
  {
   "cell_type": "markdown",
   "metadata": {},
   "source": [
    "To prepare the data for analysis, I'll first scope both datasets using the `.head()` and `.info()` functions."
   ]
  },
  {
   "cell_type": "markdown",
   "metadata": {},
   "source": [
    "### `species`\n",
    "\n",
    "The `species` dataset shows 5824 entries with are four variables (i.e. columns):\n",
    "\n",
    "- **category** - taxonomy for each species.\n",
    "- **scientific_name** - scientific name of each species.\n",
    "- **common_names** - common names of each species.\n",
    "- **conservation_status** - species' conservation status.\n",
    "\n",
    "The last column shows a discrepant amount of entries compared to the total number of entries in the dataset, indicating there is missing data."
   ]
  },
  {
   "cell_type": "code",
   "execution_count": 181,
   "metadata": {},
   "outputs": [
    {
     "name": "stdout",
     "output_type": "stream",
     "text": [
      "<class 'pandas.core.frame.DataFrame'>\n",
      "RangeIndex: 5824 entries, 0 to 5823\n",
      "Data columns (total 4 columns):\n",
      " #   Column               Non-Null Count  Dtype \n",
      "---  ------               --------------  ----- \n",
      " 0   category             5824 non-null   object\n",
      " 1   scientific_name      5824 non-null   object\n",
      " 2   common_names         5824 non-null   object\n",
      " 3   conservation_status  191 non-null    object\n",
      "dtypes: object(4)\n",
      "memory usage: 182.1+ KB\n"
     ]
    }
   ],
   "source": [
    "species.info()"
   ]
  },
  {
   "cell_type": "code",
   "execution_count": 182,
   "metadata": {},
   "outputs": [
    {
     "data": {
      "text/html": [
       "<div>\n",
       "<style scoped>\n",
       "    .dataframe tbody tr th:only-of-type {\n",
       "        vertical-align: middle;\n",
       "    }\n",
       "\n",
       "    .dataframe tbody tr th {\n",
       "        vertical-align: top;\n",
       "    }\n",
       "\n",
       "    .dataframe thead th {\n",
       "        text-align: right;\n",
       "    }\n",
       "</style>\n",
       "<table border=\"1\" class=\"dataframe\">\n",
       "  <thead>\n",
       "    <tr style=\"text-align: right;\">\n",
       "      <th></th>\n",
       "      <th>category</th>\n",
       "      <th>scientific_name</th>\n",
       "      <th>common_names</th>\n",
       "      <th>conservation_status</th>\n",
       "    </tr>\n",
       "  </thead>\n",
       "  <tbody>\n",
       "    <tr>\n",
       "      <th>0</th>\n",
       "      <td>Mammal</td>\n",
       "      <td>Clethrionomys gapperi gapperi</td>\n",
       "      <td>Gapper's Red-Backed Vole</td>\n",
       "      <td>NaN</td>\n",
       "    </tr>\n",
       "    <tr>\n",
       "      <th>1</th>\n",
       "      <td>Mammal</td>\n",
       "      <td>Bos bison</td>\n",
       "      <td>American Bison, Bison</td>\n",
       "      <td>NaN</td>\n",
       "    </tr>\n",
       "    <tr>\n",
       "      <th>2</th>\n",
       "      <td>Mammal</td>\n",
       "      <td>Bos taurus</td>\n",
       "      <td>Aurochs, Aurochs, Domestic Cattle (Feral), Dom...</td>\n",
       "      <td>NaN</td>\n",
       "    </tr>\n",
       "    <tr>\n",
       "      <th>3</th>\n",
       "      <td>Mammal</td>\n",
       "      <td>Ovis aries</td>\n",
       "      <td>Domestic Sheep, Mouflon, Red Sheep, Sheep (Feral)</td>\n",
       "      <td>NaN</td>\n",
       "    </tr>\n",
       "    <tr>\n",
       "      <th>4</th>\n",
       "      <td>Mammal</td>\n",
       "      <td>Cervus elaphus</td>\n",
       "      <td>Wapiti Or Elk</td>\n",
       "      <td>NaN</td>\n",
       "    </tr>\n",
       "  </tbody>\n",
       "</table>\n",
       "</div>"
      ],
      "text/plain": [
       "  category                scientific_name  \\\n",
       "0   Mammal  Clethrionomys gapperi gapperi   \n",
       "1   Mammal                      Bos bison   \n",
       "2   Mammal                     Bos taurus   \n",
       "3   Mammal                     Ovis aries   \n",
       "4   Mammal                 Cervus elaphus   \n",
       "\n",
       "                                        common_names conservation_status  \n",
       "0                           Gapper's Red-Backed Vole                 NaN  \n",
       "1                              American Bison, Bison                 NaN  \n",
       "2  Aurochs, Aurochs, Domestic Cattle (Feral), Dom...                 NaN  \n",
       "3  Domestic Sheep, Mouflon, Red Sheep, Sheep (Feral)                 NaN  \n",
       "4                                      Wapiti Or Elk                 NaN  "
      ]
     },
     "execution_count": 182,
     "metadata": {},
     "output_type": "execute_result"
    }
   ],
   "source": [
    "species.head()"
   ]
  },
  {
   "cell_type": "markdown",
   "metadata": {},
   "source": [
    "Both for performance as well as for using adequate data types, it might be better if I changed the dtypes for the columns. To see which dtype would be most appropriate, I'll print the unique values of each column, in particular the categorical variables such as `category` and `conservation_status`, and change them to string types."
   ]
  },
  {
   "cell_type": "code",
   "execution_count": 183,
   "metadata": {},
   "outputs": [
    {
     "name": "stdout",
     "output_type": "stream",
     "text": [
      "['Mammal' 'Bird' 'Reptile' 'Amphibian' 'Fish' 'Vascular Plant'\n",
      " 'Nonvascular Plant'] \n",
      "\n",
      "[nan 'Species of Concern' 'Endangered' 'Threatened' 'In Recovery'] \n",
      "\n",
      "<class 'pandas.core.frame.DataFrame'>\n",
      "RangeIndex: 5824 entries, 0 to 5823\n",
      "Data columns (total 4 columns):\n",
      " #   Column               Non-Null Count  Dtype \n",
      "---  ------               --------------  ----- \n",
      " 0   category             5824 non-null   string\n",
      " 1   scientific_name      5824 non-null   string\n",
      " 2   common_names         5824 non-null   string\n",
      " 3   conservation_status  191 non-null    string\n",
      "dtypes: string(4)\n",
      "memory usage: 182.1 KB\n"
     ]
    }
   ],
   "source": [
    "print(species.category.unique(), '\\n')\n",
    "print(species.conservation_status.unique(), '\\n')\n",
    "\n",
    "species = species.astype({'category': 'string', \n",
    "                        'conservation_status': 'string',\n",
    "                        # I'll also change the other columns to string variables \n",
    "                        'scientific_name': 'string', \n",
    "                        'common_names': 'string'})\n",
    "species.info()"
   ]
  },
  {
   "cell_type": "markdown",
   "metadata": {},
   "source": [
    "### `observations`\n",
    "\n",
    "Exploration of the `observations` dataset shows there are three columns:\n",
    "\n",
    "- **scientific_name** - scientific name of each species.\n",
    "- **park_name** - name of the national park species are located in.\n",
    "- **observations** - number of observations in the past 7 days.\n",
    "\n",
    "The columns don't show any missing data, however the dtypes for the first two columns should be changed to a string type."
   ]
  },
  {
   "cell_type": "code",
   "execution_count": 184,
   "metadata": {},
   "outputs": [
    {
     "name": "stdout",
     "output_type": "stream",
     "text": [
      "<class 'pandas.core.frame.DataFrame'>\n",
      "RangeIndex: 23296 entries, 0 to 23295\n",
      "Data columns (total 3 columns):\n",
      " #   Column           Non-Null Count  Dtype \n",
      "---  ------           --------------  ----- \n",
      " 0   scientific_name  23296 non-null  object\n",
      " 1   park_name        23296 non-null  object\n",
      " 2   observations     23296 non-null  int64 \n",
      "dtypes: int64(1), object(2)\n",
      "memory usage: 546.1+ KB\n",
      "None \n",
      "\n",
      "<class 'pandas.core.frame.DataFrame'>\n",
      "RangeIndex: 23296 entries, 0 to 23295\n",
      "Data columns (total 3 columns):\n",
      " #   Column           Non-Null Count  Dtype \n",
      "---  ------           --------------  ----- \n",
      " 0   scientific_name  23296 non-null  string\n",
      " 1   park_name        23296 non-null  string\n",
      " 2   observations     23296 non-null  int64 \n",
      "dtypes: int64(1), string(2)\n",
      "memory usage: 546.1 KB\n"
     ]
    }
   ],
   "source": [
    "print(observations.info(), '\\n')\n",
    "\n",
    "observations = observations.astype({'scientific_name': 'string', 'park_name': 'string'})\n",
    "observations.info()"
   ]
  },
  {
   "cell_type": "code",
   "execution_count": 185,
   "metadata": {},
   "outputs": [
    {
     "data": {
      "text/html": [
       "<div>\n",
       "<style scoped>\n",
       "    .dataframe tbody tr th:only-of-type {\n",
       "        vertical-align: middle;\n",
       "    }\n",
       "\n",
       "    .dataframe tbody tr th {\n",
       "        vertical-align: top;\n",
       "    }\n",
       "\n",
       "    .dataframe thead th {\n",
       "        text-align: right;\n",
       "    }\n",
       "</style>\n",
       "<table border=\"1\" class=\"dataframe\">\n",
       "  <thead>\n",
       "    <tr style=\"text-align: right;\">\n",
       "      <th></th>\n",
       "      <th>scientific_name</th>\n",
       "      <th>park_name</th>\n",
       "      <th>observations</th>\n",
       "    </tr>\n",
       "  </thead>\n",
       "  <tbody>\n",
       "    <tr>\n",
       "      <th>0</th>\n",
       "      <td>Vicia benghalensis</td>\n",
       "      <td>Great Smoky Mountains National Park</td>\n",
       "      <td>68</td>\n",
       "    </tr>\n",
       "    <tr>\n",
       "      <th>1</th>\n",
       "      <td>Neovison vison</td>\n",
       "      <td>Great Smoky Mountains National Park</td>\n",
       "      <td>77</td>\n",
       "    </tr>\n",
       "    <tr>\n",
       "      <th>2</th>\n",
       "      <td>Prunus subcordata</td>\n",
       "      <td>Yosemite National Park</td>\n",
       "      <td>138</td>\n",
       "    </tr>\n",
       "    <tr>\n",
       "      <th>3</th>\n",
       "      <td>Abutilon theophrasti</td>\n",
       "      <td>Bryce National Park</td>\n",
       "      <td>84</td>\n",
       "    </tr>\n",
       "    <tr>\n",
       "      <th>4</th>\n",
       "      <td>Githopsis specularioides</td>\n",
       "      <td>Great Smoky Mountains National Park</td>\n",
       "      <td>85</td>\n",
       "    </tr>\n",
       "  </tbody>\n",
       "</table>\n",
       "</div>"
      ],
      "text/plain": [
       "            scientific_name                            park_name  observations\n",
       "0        Vicia benghalensis  Great Smoky Mountains National Park            68\n",
       "1            Neovison vison  Great Smoky Mountains National Park            77\n",
       "2         Prunus subcordata               Yosemite National Park           138\n",
       "3      Abutilon theophrasti                  Bryce National Park            84\n",
       "4  Githopsis specularioides  Great Smoky Mountains National Park            85"
      ]
     },
     "execution_count": 185,
     "metadata": {},
     "output_type": "execute_result"
    }
   ],
   "source": [
    "observations.head()"
   ]
  },
  {
   "cell_type": "markdown",
   "metadata": {},
   "source": [
    "## Exploratory Data Analysis\n",
    "\n",
    "### `species`\n",
    "\n",
    "I'll start by exploring the `species` dataset more in detail. To explore the characteristics of each column, I've created a function that loops over the columns list and prints out the unique values, the amount of nun-null values, and a preview of the top most frequent values along with their counts. \n",
    "\n",
    "The exploration shows there are 7 types of species, 5541 species, 5504 common names and 4 conservation statuses."
   ]
  },
  {
   "cell_type": "code",
   "execution_count": 186,
   "metadata": {},
   "outputs": [
    {
     "name": "stdout",
     "output_type": "stream",
     "text": [
      "---------------category---------------\n",
      "Unique values: 7 \t Non-null values: 5824 \n",
      "Missing values: 0\n",
      "               index  category\n",
      "0     Vascular Plant      4470\n",
      "1               Bird       521\n",
      "2  Nonvascular Plant       333\n",
      "3             Mammal       214\n",
      "---------------scientific_name---------------\n",
      "Unique values: 5541 \t Non-null values: 5824 \n",
      "Missing values: 0\n",
      "                  index  scientific_name\n",
      "0     Castor canadensis                3\n",
      "1  Hypochaeris radicata                3\n",
      "2         Columba livia                3\n",
      "3         Puma concolor                3\n",
      "---------------common_names---------------\n",
      "Unique values: 5504 \t Non-null values: 5824 \n",
      "Missing values: 0\n",
      "                index  common_names\n",
      "0  Brachythecium Moss             7\n",
      "1       Dicranum Moss             7\n",
      "2         Panic Grass             6\n",
      "3          Bryum Moss             6\n",
      "---------------conservation_status---------------\n",
      "Unique values: 4 \t Non-null values: 191 \n",
      "Missing values: 5633\n",
      "                index  conservation_status\n",
      "0  Species of Concern                  161\n",
      "1          Endangered                   16\n",
      "2          Threatened                   10\n",
      "3         In Recovery                    4\n"
     ]
    }
   ],
   "source": [
    "def column_eda(dataset):\n",
    "    cols = list(dataset.columns)\n",
    "    for col in cols:\n",
    "        print(f'---------------{col}---------------')\n",
    "        print(f'Unique values:', dataset[col].nunique(), '\\t', \n",
    "                f'Non-null values: {dataset[col].notnull().sum()}',\n",
    "                '\\n'f'Missing values: {dataset[col].isnull().sum()}')\n",
    "        print(dataset[col].value_counts().reset_index().head(4))\n",
    "\n",
    "column_eda(species)"
   ]
  },
  {
   "cell_type": "markdown",
   "metadata": {},
   "source": [
    "Some preliminary remarks can be made from a first glance:\n",
    "1. `conservation_status` displays a high number of `nan` values (5633), which, given the available categories, may well be treated as 'species of no concern' or with 'no intervention'. To attend this, I'll change the missing values in the `conservation_status` column to \"No intervention\", giving this column a total of 5 statuses."
   ]
  },
  {
   "cell_type": "code",
   "execution_count": 187,
   "metadata": {},
   "outputs": [
    {
     "name": "stdout",
     "output_type": "stream",
     "text": [
      "Types of conservation status: [<NA>, 'Species of Concern', 'Endangered', 'Threatened', 'In Recovery'] \n",
      "\n",
      "New types of conservation status: ['No intervention', 'Species of Concern', 'Endangered', 'Threatened', 'In Recovery']\n"
     ]
    }
   ],
   "source": [
    "print('Types of conservation status:', list(species.conservation_status.unique()), '\\n')\n",
    "\n",
    "species.conservation_status = species.conservation_status.fillna('No intervention')\n",
    "\n",
    "print('New types of conservation status:', list(species.conservation_status.unique()))"
   ]
  },
  {
   "cell_type": "markdown",
   "metadata": {},
   "source": [
    "2. The discrepancy between unique values of `scientific_name` and `common_names` in spite of all entries having non-null values points to the presence of duplicates. To confirm this, I'll scope both columns for duplicates."
   ]
  },
  {
   "cell_type": "code",
   "execution_count": 188,
   "metadata": {},
   "outputs": [
    {
     "name": "stdout",
     "output_type": "stream",
     "text": [
      "Overall duplicates (rows): 0 \n",
      "\n",
      "Duplicated scientific names: 283 \n",
      "\n",
      "Duplicated common names: 320 \n",
      "\n"
     ]
    }
   ],
   "source": [
    "duplicates = species[species.duplicated()]\n",
    "print(f'Overall duplicates (rows): {len(duplicates)}', '\\n')\n",
    "\n",
    "repeated_scientific_names = species.scientific_name[species.scientific_name.duplicated()]\n",
    "print(f'Duplicated scientific names: {len(repeated_scientific_names)}', '\\n')\n",
    "\n",
    "repeated_common_names = species.common_names[species.common_names.duplicated()]\n",
    "print(f'Duplicated common names: {len(repeated_common_names)}', '\\n')"
   ]
  },
  {
   "cell_type": "markdown",
   "metadata": {},
   "source": [
    "The presence of more duplicates for common names than scientific names may be due to some species having the same common name. To verify this, let's see which are the more frequent duplicated common names and print out an example of the most frequent one with the corresponding scientific names attached to it."
   ]
  },
  {
   "cell_type": "code",
   "execution_count": 189,
   "metadata": {},
   "outputs": [
    {
     "name": "stdout",
     "output_type": "stream",
     "text": [
      "----Common Name duplicate count----\n",
      "          Common_Names  Duplicate_Count\n",
      "0  Brachythecium Moss                7\n",
      "1       Dicranum Moss                7\n",
      "2         Panic Grass                6\n",
      "3            Sphagnum                6\n",
      "4          Bryum Moss                6 \n",
      "Total duplicated: 248 \n",
      "\n",
      "----Example of repeated common name: Brachythecium Moss----\n",
      "             common_names           scientific_name\n",
      "2812  Brachythecium Moss   Brachythecium digastrum\n",
      "2813  Brachythecium Moss  Brachythecium oedipodium\n",
      "2814  Brachythecium Moss   Brachythecium oxycladon\n",
      "2815  Brachythecium Moss    Brachythecium plumosum\n",
      "2816  Brachythecium Moss    Brachythecium rivulare\n",
      "2817  Brachythecium Moss   Brachythecium rutabulum\n",
      "2818  Brachythecium Moss  Brachythecium salebrosum\n"
     ]
    }
   ],
   "source": [
    "common_name_dupl_count = species.pivot_table(columns=['common_names'], aggfunc='size')\\\n",
    "                                .sort_values(ascending=False).reset_index()\n",
    "common_name_dupl_count.columns = ['Common_Names', 'Duplicate_Count']\n",
    "print('----Common Name duplicate count----\\n', common_name_dupl_count.head(), '\\n'\\\n",
    "    f'Total duplicated: {len(common_name_dupl_count[common_name_dupl_count.Duplicate_Count > 1])}', '\\n'\n",
    "    )\n",
    "\n",
    "Brachythecium_Moss_rep = species.loc[species['common_names'] == 'Brachythecium Moss', \n",
    "                                    ['common_names', 'scientific_name']\n",
    "                                    ]\n",
    "print('----Example of repeated common name: Brachythecium Moss----\\n', Brachythecium_Moss_rep)"
   ]
  },
  {
   "cell_type": "markdown",
   "metadata": {},
   "source": [
    "The other open question is the fact that there are duplicates in `scientific_name`, indicating there are duplicate observations of the same species in the dataset. Given there are no completely duplicated rows, these duplicate names must have some difference within the rows themselves. The check this out, I'll print out a sample of duplicates and inspect three random dumplicates species, to see what kind of differences are there among these duplicates."
   ]
  },
  {
   "cell_type": "code",
   "execution_count": 190,
   "metadata": {},
   "outputs": [
    {
     "name": "stdout",
     "output_type": "stream",
     "text": [
      "-------Sample of duplicated scientific names-------\n"
     ]
    },
    {
     "data": {
      "text/html": [
       "<div>\n",
       "<style scoped>\n",
       "    .dataframe tbody tr th:only-of-type {\n",
       "        vertical-align: middle;\n",
       "    }\n",
       "\n",
       "    .dataframe tbody tr th {\n",
       "        vertical-align: top;\n",
       "    }\n",
       "\n",
       "    .dataframe thead th {\n",
       "        text-align: right;\n",
       "    }\n",
       "</style>\n",
       "<table border=\"1\" class=\"dataframe\">\n",
       "  <thead>\n",
       "    <tr style=\"text-align: right;\">\n",
       "      <th></th>\n",
       "      <th>category</th>\n",
       "      <th>scientific_name</th>\n",
       "      <th>common_names</th>\n",
       "      <th>conservation_status</th>\n",
       "    </tr>\n",
       "  </thead>\n",
       "  <tbody>\n",
       "    <tr>\n",
       "      <th>4</th>\n",
       "      <td>Mammal</td>\n",
       "      <td>Cervus elaphus</td>\n",
       "      <td>Wapiti Or Elk</td>\n",
       "      <td>No intervention</td>\n",
       "    </tr>\n",
       "    <tr>\n",
       "      <th>5</th>\n",
       "      <td>Mammal</td>\n",
       "      <td>Odocoileus virginianus</td>\n",
       "      <td>White-Tailed Deer</td>\n",
       "      <td>No intervention</td>\n",
       "    </tr>\n",
       "    <tr>\n",
       "      <th>6</th>\n",
       "      <td>Mammal</td>\n",
       "      <td>Sus scrofa</td>\n",
       "      <td>Feral Hog, Wild Pig</td>\n",
       "      <td>No intervention</td>\n",
       "    </tr>\n",
       "    <tr>\n",
       "      <th>8</th>\n",
       "      <td>Mammal</td>\n",
       "      <td>Canis lupus</td>\n",
       "      <td>Gray Wolf</td>\n",
       "      <td>Endangered</td>\n",
       "    </tr>\n",
       "    <tr>\n",
       "      <th>10</th>\n",
       "      <td>Mammal</td>\n",
       "      <td>Urocyon cinereoargenteus</td>\n",
       "      <td>Common Gray Fox, Gray Fox</td>\n",
       "      <td>No intervention</td>\n",
       "    </tr>\n",
       "  </tbody>\n",
       "</table>\n",
       "</div>"
      ],
      "text/plain": [
       "   category           scientific_name               common_names  \\\n",
       "4    Mammal            Cervus elaphus              Wapiti Or Elk   \n",
       "5    Mammal    Odocoileus virginianus          White-Tailed Deer   \n",
       "6    Mammal                Sus scrofa        Feral Hog, Wild Pig   \n",
       "8    Mammal               Canis lupus                  Gray Wolf   \n",
       "10   Mammal  Urocyon cinereoargenteus  Common Gray Fox, Gray Fox   \n",
       "\n",
       "   conservation_status  \n",
       "4      No intervention  \n",
       "5      No intervention  \n",
       "6      No intervention  \n",
       "8           Endangered  \n",
       "10     No intervention  "
      ]
     },
     "metadata": {},
     "output_type": "display_data"
    },
    {
     "name": "stdout",
     "output_type": "stream",
     "text": [
      "-------Duplicated 'Cervus elaphus'-------\n"
     ]
    },
    {
     "data": {
      "text/html": [
       "<div>\n",
       "<style scoped>\n",
       "    .dataframe tbody tr th:only-of-type {\n",
       "        vertical-align: middle;\n",
       "    }\n",
       "\n",
       "    .dataframe tbody tr th {\n",
       "        vertical-align: top;\n",
       "    }\n",
       "\n",
       "    .dataframe thead th {\n",
       "        text-align: right;\n",
       "    }\n",
       "</style>\n",
       "<table border=\"1\" class=\"dataframe\">\n",
       "  <thead>\n",
       "    <tr style=\"text-align: right;\">\n",
       "      <th></th>\n",
       "      <th>category</th>\n",
       "      <th>scientific_name</th>\n",
       "      <th>common_names</th>\n",
       "      <th>conservation_status</th>\n",
       "    </tr>\n",
       "  </thead>\n",
       "  <tbody>\n",
       "    <tr>\n",
       "      <th>4</th>\n",
       "      <td>Mammal</td>\n",
       "      <td>Cervus elaphus</td>\n",
       "      <td>Wapiti Or Elk</td>\n",
       "      <td>No intervention</td>\n",
       "    </tr>\n",
       "    <tr>\n",
       "      <th>3017</th>\n",
       "      <td>Mammal</td>\n",
       "      <td>Cervus elaphus</td>\n",
       "      <td>Rocky Mountain Elk</td>\n",
       "      <td>No intervention</td>\n",
       "    </tr>\n",
       "  </tbody>\n",
       "</table>\n",
       "</div>"
      ],
      "text/plain": [
       "     category scientific_name        common_names conservation_status\n",
       "4      Mammal  Cervus elaphus       Wapiti Or Elk     No intervention\n",
       "3017   Mammal  Cervus elaphus  Rocky Mountain Elk     No intervention"
      ]
     },
     "metadata": {},
     "output_type": "display_data"
    },
    {
     "name": "stdout",
     "output_type": "stream",
     "text": [
      "-------Duplicated 'Canis lupus'-------\n"
     ]
    },
    {
     "data": {
      "text/html": [
       "<div>\n",
       "<style scoped>\n",
       "    .dataframe tbody tr th:only-of-type {\n",
       "        vertical-align: middle;\n",
       "    }\n",
       "\n",
       "    .dataframe tbody tr th {\n",
       "        vertical-align: top;\n",
       "    }\n",
       "\n",
       "    .dataframe thead th {\n",
       "        text-align: right;\n",
       "    }\n",
       "</style>\n",
       "<table border=\"1\" class=\"dataframe\">\n",
       "  <thead>\n",
       "    <tr style=\"text-align: right;\">\n",
       "      <th></th>\n",
       "      <th>category</th>\n",
       "      <th>scientific_name</th>\n",
       "      <th>common_names</th>\n",
       "      <th>conservation_status</th>\n",
       "    </tr>\n",
       "  </thead>\n",
       "  <tbody>\n",
       "    <tr>\n",
       "      <th>8</th>\n",
       "      <td>Mammal</td>\n",
       "      <td>Canis lupus</td>\n",
       "      <td>Gray Wolf</td>\n",
       "      <td>Endangered</td>\n",
       "    </tr>\n",
       "    <tr>\n",
       "      <th>3020</th>\n",
       "      <td>Mammal</td>\n",
       "      <td>Canis lupus</td>\n",
       "      <td>Gray Wolf, Wolf</td>\n",
       "      <td>In Recovery</td>\n",
       "    </tr>\n",
       "    <tr>\n",
       "      <th>4448</th>\n",
       "      <td>Mammal</td>\n",
       "      <td>Canis lupus</td>\n",
       "      <td>Gray Wolf, Wolf</td>\n",
       "      <td>Endangered</td>\n",
       "    </tr>\n",
       "  </tbody>\n",
       "</table>\n",
       "</div>"
      ],
      "text/plain": [
       "     category scientific_name     common_names conservation_status\n",
       "8      Mammal     Canis lupus        Gray Wolf          Endangered\n",
       "3020   Mammal     Canis lupus  Gray Wolf, Wolf         In Recovery\n",
       "4448   Mammal     Canis lupus  Gray Wolf, Wolf          Endangered"
      ]
     },
     "metadata": {},
     "output_type": "display_data"
    },
    {
     "name": "stdout",
     "output_type": "stream",
     "text": [
      "-------Duplicated 'Odocoileus virginianus'-------\n"
     ]
    },
    {
     "data": {
      "text/html": [
       "<div>\n",
       "<style scoped>\n",
       "    .dataframe tbody tr th:only-of-type {\n",
       "        vertical-align: middle;\n",
       "    }\n",
       "\n",
       "    .dataframe tbody tr th {\n",
       "        vertical-align: top;\n",
       "    }\n",
       "\n",
       "    .dataframe thead th {\n",
       "        text-align: right;\n",
       "    }\n",
       "</style>\n",
       "<table border=\"1\" class=\"dataframe\">\n",
       "  <thead>\n",
       "    <tr style=\"text-align: right;\">\n",
       "      <th></th>\n",
       "      <th>category</th>\n",
       "      <th>scientific_name</th>\n",
       "      <th>common_names</th>\n",
       "      <th>conservation_status</th>\n",
       "    </tr>\n",
       "  </thead>\n",
       "  <tbody>\n",
       "    <tr>\n",
       "      <th>5</th>\n",
       "      <td>Mammal</td>\n",
       "      <td>Odocoileus virginianus</td>\n",
       "      <td>White-Tailed Deer</td>\n",
       "      <td>No intervention</td>\n",
       "    </tr>\n",
       "    <tr>\n",
       "      <th>3019</th>\n",
       "      <td>Mammal</td>\n",
       "      <td>Odocoileus virginianus</td>\n",
       "      <td>White-Tailed Deer, White-Tailed Deer</td>\n",
       "      <td>No intervention</td>\n",
       "    </tr>\n",
       "  </tbody>\n",
       "</table>\n",
       "</div>"
      ],
      "text/plain": [
       "     category         scientific_name                          common_names  \\\n",
       "5      Mammal  Odocoileus virginianus                     White-Tailed Deer   \n",
       "3019   Mammal  Odocoileus virginianus  White-Tailed Deer, White-Tailed Deer   \n",
       "\n",
       "     conservation_status  \n",
       "5        No intervention  \n",
       "3019     No intervention  "
      ]
     },
     "metadata": {},
     "output_type": "display_data"
    }
   ],
   "source": [
    "dupl_sci_names = species[species.scientific_name.duplicated(False)]\n",
    "print('-------Sample of duplicated scientific names-------')\n",
    "display(dupl_sci_names.head())\n",
    "\n",
    "dupl_elk = dupl_sci_names[dupl_sci_names.scientific_name == 'Cervus elaphus']\n",
    "print('-------Duplicated \\'Cervus elaphus\\'-------')\n",
    "display(dupl_elk)\n",
    "\n",
    "dupl_canis = dupl_sci_names[dupl_sci_names.scientific_name == 'Canis lupus']\n",
    "print('-------Duplicated \\'Canis lupus\\'-------')\n",
    "display(dupl_canis)\n",
    "\n",
    "dupl_deer = dupl_sci_names[dupl_sci_names.scientific_name == 'Odocoileus virginianus']\n",
    "print('-------Duplicated \\'Odocoileus virginianus\\'-------')\n",
    "display(dupl_deer)\n"
   ]
  },
  {
   "cell_type": "markdown",
   "metadata": {},
   "source": [
    "It seems that both the amount of common names and sometimes conservation statuses are different for duplicate observations. To solve the question of duplicates, given the common names of first instances here are simpler, I'll retain the first instance of these duplicates and drop the rest. (Despite the conservation statuses sometimes being different, this will not affect our analysis regarding *protected* and not *protected species*, as will be seen later)."
   ]
  },
  {
   "cell_type": "code",
   "execution_count": 191,
   "metadata": {},
   "outputs": [
    {
     "name": "stdout",
     "output_type": "stream",
     "text": [
      "Duplicated scientific names: 0 \n",
      "\n",
      "-------Previously duplicated examples (now clean)-------\n"
     ]
    },
    {
     "data": {
      "text/html": [
       "<div>\n",
       "<style scoped>\n",
       "    .dataframe tbody tr th:only-of-type {\n",
       "        vertical-align: middle;\n",
       "    }\n",
       "\n",
       "    .dataframe tbody tr th {\n",
       "        vertical-align: top;\n",
       "    }\n",
       "\n",
       "    .dataframe thead th {\n",
       "        text-align: right;\n",
       "    }\n",
       "</style>\n",
       "<table border=\"1\" class=\"dataframe\">\n",
       "  <thead>\n",
       "    <tr style=\"text-align: right;\">\n",
       "      <th></th>\n",
       "      <th>category</th>\n",
       "      <th>scientific_name</th>\n",
       "      <th>common_names</th>\n",
       "      <th>conservation_status</th>\n",
       "    </tr>\n",
       "  </thead>\n",
       "  <tbody>\n",
       "    <tr>\n",
       "      <th>4</th>\n",
       "      <td>Mammal</td>\n",
       "      <td>Cervus elaphus</td>\n",
       "      <td>Wapiti Or Elk</td>\n",
       "      <td>No intervention</td>\n",
       "    </tr>\n",
       "    <tr>\n",
       "      <th>5</th>\n",
       "      <td>Mammal</td>\n",
       "      <td>Odocoileus virginianus</td>\n",
       "      <td>White-Tailed Deer</td>\n",
       "      <td>No intervention</td>\n",
       "    </tr>\n",
       "    <tr>\n",
       "      <th>8</th>\n",
       "      <td>Mammal</td>\n",
       "      <td>Canis lupus</td>\n",
       "      <td>Gray Wolf</td>\n",
       "      <td>Endangered</td>\n",
       "    </tr>\n",
       "  </tbody>\n",
       "</table>\n",
       "</div>"
      ],
      "text/plain": [
       "  category         scientific_name       common_names conservation_status\n",
       "4   Mammal          Cervus elaphus      Wapiti Or Elk     No intervention\n",
       "5   Mammal  Odocoileus virginianus  White-Tailed Deer     No intervention\n",
       "8   Mammal             Canis lupus          Gray Wolf          Endangered"
      ]
     },
     "metadata": {},
     "output_type": "display_data"
    }
   ],
   "source": [
    "# Drop rows with duplicated scientific names\n",
    "species = species.drop_duplicates(subset = ['scientific_name'], keep= 'first')\n",
    "\n",
    "repeated_scientific_names = species.scientific_name[species.scientific_name.duplicated()]\n",
    "print(f'Duplicated scientific names: {len(repeated_scientific_names)}', '\\n')\n",
    "\n",
    "print('-------Previously duplicated examples (now clean)-------')\n",
    "display(species[species.scientific_name.isin(['Cervus elaphus', 'Canis lupus', 'Odocoileus virginianus'])])\n"
   ]
  },
  {
   "cell_type": "markdown",
   "metadata": {},
   "source": [
    "### `observations`\n",
    "\n",
    "I'll perform the same analysis as above with the second dataset. I'll scope the columns for unique values, the amount of nun-null values, and the top most frequent values along with their counts. "
   ]
  },
  {
   "cell_type": "code",
   "execution_count": 192,
   "metadata": {},
   "outputs": [
    {
     "name": "stdout",
     "output_type": "stream",
     "text": [
      "---------------scientific_name---------------\n",
      "Unique values: 5541 \t Non-null values: 23296 \n",
      "Missing values: 0\n",
      "                   index  scientific_name\n",
      "0       Myotis lucifugus               12\n",
      "1   Hypochaeris radicata               12\n",
      "2         Holcus lanatus               12\n",
      "3  Streptopelia decaocto               12\n",
      "---------------park_name---------------\n",
      "Unique values: 4 \t Non-null values: 23296 \n",
      "Missing values: 0\n",
      "                                 index  park_name\n",
      "0  Great Smoky Mountains National Park       5824\n",
      "1               Yosemite National Park       5824\n",
      "2                  Bryce National Park       5824\n",
      "3            Yellowstone National Park       5824\n",
      "---------------observations---------------\n",
      "Unique values: 304 \t Non-null values: 23296 \n",
      "Missing values: 0\n",
      "   index  observations\n",
      "0     84           220\n",
      "1     85           210\n",
      "2     91           206\n",
      "3     92           203\n"
     ]
    }
   ],
   "source": [
    "column_eda(observations)"
   ]
  },
  {
   "cell_type": "markdown",
   "metadata": {},
   "source": [
    "The EDA for this dataset reveals there 23296 observations of 5541 unique species documented in 4 parks. The EDA for the `observations` column doesn't reveal much useful information, given this is a numerical variable. \n",
    "\n",
    "However, this variable may proove usefull in answering some of the questions introduced above. To better explore this column given its data type, I'll provide here some descriptive statistics on it."
   ]
  },
  {
   "cell_type": "code",
   "execution_count": 312,
   "metadata": {},
   "outputs": [
    {
     "name": "stdout",
     "output_type": "stream",
     "text": [
      "count    23296.000000\n",
      "mean       142.287904\n",
      "std         69.890532\n",
      "min          9.000000\n",
      "25%         86.000000\n",
      "50%        124.000000\n",
      "75%        195.000000\n",
      "max        321.000000\n",
      "Name: observations, dtype: float64\n"
     ]
    },
    {
     "data": {
      "image/png": "[encoded data removed]",
      "text/plain": [
       "<Figure size 432x288 with 1 Axes>"
      ]
     },
     "metadata": {
      "needs_background": "light"
     },
     "output_type": "display_data"
    },
    {
     "name": "stdout",
     "output_type": "stream",
     "text": [
      "Total number of observations: 3314739 in the past 7 days.\n"
     ]
    }
   ],
   "source": [
    "print(observations.observations.describe())\n",
    "\n",
    "sns.histplot(x = 'observations', data = observations, kde=True)\n",
    "plt.show()\n",
    "\n",
    "print('Total number of observations:', observations.observations.sum(), 'in the past 7 days.')"
   ]
  },
  {
   "cell_type": "markdown",
   "metadata": {},
   "source": [
    "### Summary\n",
    "\n",
    "To summarize the findings of this EDA, I outline below the chief characteristics of both datasets.\n",
    "\n",
    "#### `species`\n",
    "- Has 4 variables: category (the species taxonomy), scientific_name, common_names and conservation_status.\n",
    "- All variables are either categorical or nominal.\n",
    "- The data shows observations for 5541 unique species among 7 types, having 5504 common names and displaying 5 conservation statuses.\n",
    "\n",
    "#### `observations`\n",
    "- Has 3 variables: scientific_name, park_name and number of observations in the past 7 days.\n",
    "- The variables are nominal, categorical and numerical respectively.\n",
    "- The data shows 23296 entries of 5541 unique species documented in 4 parks in a total of 3314739 observations in the past 7 days."
   ]
  },
  {
   "cell_type": "markdown",
   "metadata": {},
   "source": [
    "## Analysis\n",
    "\n",
    "For this analysis, I'll attempt to answer the questions stated above by beginning with the `species` dataset. \n",
    "\n",
    "### Q: What is the distribution of conservation status for animals?\n",
    "\n",
    "First, I'll explore the distribution of animal categories among conservation statuses by grouping the `species` dataset by both columns and calculating the absolute and relative frequencies by conservation status. Then, I'll plot them below.\n",
    "\n",
    "The most endangered animals in the dataset were mammals (6) and birds (4), while the only animal in recovery are birds (3), which could point to the fact that birds are recovering better than other animals.\n",
    "\n",
    "The distribution of species among categories and conservation statuses is depicted in the following plot."
   ]
  },
  {
   "cell_type": "code",
   "execution_count": 324,
   "metadata": {},
   "outputs": [
    {
     "name": "stdout",
     "output_type": "stream",
     "text": [
      "Total species under protection: 178\n",
      "Total species not under protection: 5363\n"
     ]
    },
    {
     "data": {
      "text/plain": [
       "'Absolute frequencies'"
      ]
     },
     "metadata": {},
     "output_type": "display_data"
    },
    {
     "data": {
      "text/html": [
       "<div>\n",
       "<style scoped>\n",
       "    .dataframe tbody tr th:only-of-type {\n",
       "        vertical-align: middle;\n",
       "    }\n",
       "\n",
       "    .dataframe tbody tr th {\n",
       "        vertical-align: top;\n",
       "    }\n",
       "\n",
       "    .dataframe thead th {\n",
       "        text-align: right;\n",
       "    }\n",
       "</style>\n",
       "<table border=\"1\" class=\"dataframe\">\n",
       "  <thead>\n",
       "    <tr style=\"text-align: right;\">\n",
       "      <th>category</th>\n",
       "      <th>Amphibian</th>\n",
       "      <th>Bird</th>\n",
       "      <th>Fish</th>\n",
       "      <th>Mammal</th>\n",
       "      <th>Nonvascular Plant</th>\n",
       "      <th>Reptile</th>\n",
       "      <th>Vascular Plant</th>\n",
       "    </tr>\n",
       "    <tr>\n",
       "      <th>conservation_status</th>\n",
       "      <th></th>\n",
       "      <th></th>\n",
       "      <th></th>\n",
       "      <th></th>\n",
       "      <th></th>\n",
       "      <th></th>\n",
       "      <th></th>\n",
       "    </tr>\n",
       "  </thead>\n",
       "  <tbody>\n",
       "    <tr>\n",
       "      <th>Endangered</th>\n",
       "      <td>1.0</td>\n",
       "      <td>4.0</td>\n",
       "      <td>3.0</td>\n",
       "      <td>6.0</td>\n",
       "      <td>0.0</td>\n",
       "      <td>0.0</td>\n",
       "      <td>1.0</td>\n",
       "    </tr>\n",
       "    <tr>\n",
       "      <th>In Recovery</th>\n",
       "      <td>0.0</td>\n",
       "      <td>3.0</td>\n",
       "      <td>0.0</td>\n",
       "      <td>0.0</td>\n",
       "      <td>0.0</td>\n",
       "      <td>0.0</td>\n",
       "      <td>0.0</td>\n",
       "    </tr>\n",
       "    <tr>\n",
       "      <th>Species of Concern</th>\n",
       "      <td>4.0</td>\n",
       "      <td>68.0</td>\n",
       "      <td>4.0</td>\n",
       "      <td>22.0</td>\n",
       "      <td>5.0</td>\n",
       "      <td>5.0</td>\n",
       "      <td>43.0</td>\n",
       "    </tr>\n",
       "    <tr>\n",
       "      <th>Threatened</th>\n",
       "      <td>2.0</td>\n",
       "      <td>0.0</td>\n",
       "      <td>3.0</td>\n",
       "      <td>2.0</td>\n",
       "      <td>0.0</td>\n",
       "      <td>0.0</td>\n",
       "      <td>2.0</td>\n",
       "    </tr>\n",
       "  </tbody>\n",
       "</table>\n",
       "</div>"
      ],
      "text/plain": [
       "category             Amphibian          Bird               Fish               \\\n",
       "conservation_status                                                            \n",
       "Endangered                         1.0                4.0                3.0   \n",
       "In Recovery                        0.0                3.0                0.0   \n",
       "Species of Concern                 4.0               68.0                4.0   \n",
       "Threatened                         2.0                0.0                3.0   \n",
       "\n",
       "category             Mammal             Nonvascular Plant  Reptile            \\\n",
       "conservation_status                                                            \n",
       "Endangered                         6.0                0.0                0.0   \n",
       "In Recovery                        0.0                0.0                0.0   \n",
       "Species of Concern                22.0                5.0                5.0   \n",
       "Threatened                         2.0                0.0                0.0   \n",
       "\n",
       "category             Vascular Plant     \n",
       "conservation_status                     \n",
       "Endangered                         1.0  \n",
       "In Recovery                        0.0  \n",
       "Species of Concern                43.0  \n",
       "Threatened                         2.0  "
      ]
     },
     "metadata": {},
     "output_type": "display_data"
    },
    {
     "data": {
      "image/png": "[encoded data removed]",
      "text/plain": [
       "<Figure size 720x432 with 1 Axes>"
      ]
     },
     "metadata": {
      "needs_background": "light"
     },
     "output_type": "display_data"
    },
    {
     "data": {
      "text/plain": [
       "<Figure size 432x288 with 0 Axes>"
      ]
     },
     "metadata": {},
     "output_type": "display_data"
    }
   ],
   "source": [
    "num_conservation = len(species[species.conservation_status != 'No intervention'])\n",
    "num_not_conservation = len(species[species.conservation_status == 'No intervention'])\n",
    "\n",
    "print(f'Total species under protection: {num_conservation}')\n",
    "print(f'Total species not under protection: {num_not_conservation}')\n",
    "\n",
    "category_conservation = species[species.conservation_status != 'No intervention']\\\n",
    "                        .groupby(['conservation_status', 'category'])['scientific_name']\\\n",
    "                        .count()\\\n",
    "                        .unstack()\\\n",
    "                        .replace('nan', np.nan).fillna(0)\n",
    "\n",
    "display(\"Absolute frequencies\", category_conservation)\n",
    "\n",
    "ax = category_conservation.plot(kind='bar', figsize=(10,6), stacked = True)\n",
    "ax.set_xlabel('Conservation Status')\n",
    "ax.set_ylabel('Number of Species')\n",
    "plt.title(\"Animal Distribution among Conservation Statuses\")\n",
    "plt.show()\n",
    "plt.clf()\n"
   ]
  },
  {
   "cell_type": "markdown",
   "metadata": {},
   "source": [
    "In addition to that, the relative frequencies per conservation status reveal more information about the distribution of animal categories per status. \n",
    "- Mammals, birds and fish make up more than 85% of all endangered species documented in the `species` dataset. \n",
    "- More than 70% of species of concern are made up of birds and vascular plants. \n",
    "- As observed before, birds make up 100% of the species in recovery according to the dataset. \n",
    "\n",
    "These proportions can be clearly visualized in the plot below."
   ]
  },
  {
   "cell_type": "code",
   "execution_count": 195,
   "metadata": {},
   "outputs": [
    {
     "data": {
      "text/plain": [
       "'Relative frequencies by category'"
      ]
     },
     "metadata": {},
     "output_type": "display_data"
    },
    {
     "data": {
      "text/html": [
       "<div>\n",
       "<style scoped>\n",
       "    .dataframe tbody tr th:only-of-type {\n",
       "        vertical-align: middle;\n",
       "    }\n",
       "\n",
       "    .dataframe tbody tr th {\n",
       "        vertical-align: top;\n",
       "    }\n",
       "\n",
       "    .dataframe thead th {\n",
       "        text-align: right;\n",
       "    }\n",
       "</style>\n",
       "<table border=\"1\" class=\"dataframe\">\n",
       "  <thead>\n",
       "    <tr style=\"text-align: right;\">\n",
       "      <th>category</th>\n",
       "      <th>Amphibian</th>\n",
       "      <th>Bird</th>\n",
       "      <th>Fish</th>\n",
       "      <th>Mammal</th>\n",
       "      <th>Nonvascular Plant</th>\n",
       "      <th>Reptile</th>\n",
       "      <th>Vascular Plant</th>\n",
       "    </tr>\n",
       "    <tr>\n",
       "      <th>conservation_status</th>\n",
       "      <th></th>\n",
       "      <th></th>\n",
       "      <th></th>\n",
       "      <th></th>\n",
       "      <th></th>\n",
       "      <th></th>\n",
       "      <th></th>\n",
       "    </tr>\n",
       "  </thead>\n",
       "  <tbody>\n",
       "    <tr>\n",
       "      <th>Endangered</th>\n",
       "      <td>6.67</td>\n",
       "      <td>26.67</td>\n",
       "      <td>20.00</td>\n",
       "      <td>40.00</td>\n",
       "      <td>0.00</td>\n",
       "      <td>0.00</td>\n",
       "      <td>6.67</td>\n",
       "    </tr>\n",
       "    <tr>\n",
       "      <th>In Recovery</th>\n",
       "      <td>0.00</td>\n",
       "      <td>100.00</td>\n",
       "      <td>0.00</td>\n",
       "      <td>0.00</td>\n",
       "      <td>0.00</td>\n",
       "      <td>0.00</td>\n",
       "      <td>0.00</td>\n",
       "    </tr>\n",
       "    <tr>\n",
       "      <th>Species of Concern</th>\n",
       "      <td>2.65</td>\n",
       "      <td>45.03</td>\n",
       "      <td>2.65</td>\n",
       "      <td>14.57</td>\n",
       "      <td>3.31</td>\n",
       "      <td>3.31</td>\n",
       "      <td>28.48</td>\n",
       "    </tr>\n",
       "    <tr>\n",
       "      <th>Threatened</th>\n",
       "      <td>22.22</td>\n",
       "      <td>0.00</td>\n",
       "      <td>33.33</td>\n",
       "      <td>22.22</td>\n",
       "      <td>0.00</td>\n",
       "      <td>0.00</td>\n",
       "      <td>22.22</td>\n",
       "    </tr>\n",
       "  </tbody>\n",
       "</table>\n",
       "</div>"
      ],
      "text/plain": [
       "category             Amphibian          Bird               Fish               \\\n",
       "conservation_status                                                            \n",
       "Endangered                        6.67              26.67              20.00   \n",
       "In Recovery                       0.00             100.00               0.00   \n",
       "Species of Concern                2.65              45.03               2.65   \n",
       "Threatened                       22.22               0.00              33.33   \n",
       "\n",
       "category             Mammal             Nonvascular Plant  Reptile            \\\n",
       "conservation_status                                                            \n",
       "Endangered                       40.00               0.00               0.00   \n",
       "In Recovery                       0.00               0.00               0.00   \n",
       "Species of Concern               14.57               3.31               3.31   \n",
       "Threatened                       22.22               0.00               0.00   \n",
       "\n",
       "category             Vascular Plant     \n",
       "conservation_status                     \n",
       "Endangered                        6.67  \n",
       "In Recovery                       0.00  \n",
       "Species of Concern               28.48  \n",
       "Threatened                       22.22  "
      ]
     },
     "metadata": {},
     "output_type": "display_data"
    }
   ],
   "source": [
    "category_conservation_rel = species[species.conservation_status != 'No intervention']\\\n",
    "                            .groupby(['category', 'conservation_status'])['scientific_name']\\\n",
    "                            .count()\\\n",
    "                            .unstack()\\\n",
    "                            .replace('nan', np.nan).fillna(0)\\\n",
    "                            .apply(lambda x:  (100*x / x.sum()).round(2))\\\n",
    "                            .transpose()\n",
    "display(\"Relative frequencies by category\", category_conservation_rel)"
   ]
  },
  {
   "cell_type": "code",
   "execution_count": 196,
   "metadata": {},
   "outputs": [
    {
     "data": {
      "image/png": "[encoded data removed]",
      "text/plain": [
       "<Figure size 720x432 with 1 Axes>"
      ]
     },
     "metadata": {
      "needs_background": "light"
     },
     "output_type": "display_data"
    },
    {
     "data": {
      "text/plain": [
       "<Figure size 432x288 with 0 Axes>"
      ]
     },
     "metadata": {},
     "output_type": "display_data"
    }
   ],
   "source": [
    "axrel = category_conservation_rel.plot(kind='bar', figsize=(10,6), stacked = True)\n",
    "axrel.set_xlabel('Conservation Status')\n",
    "axrel.set_ylabel('Number of Species')\n",
    "axrel.legend(bbox_to_anchor=(1,1), loc = 'upper left')\n",
    "plt.title(\"Proportions of Animals per Conservation Status\")\n",
    "plt.show()\n",
    "plt.clf()"
   ]
  },
  {
   "cell_type": "markdown",
   "metadata": {},
   "source": [
    "### Q: Are certain types of species more likely to be endangered?\n",
    "\n",
    "The next question concerns the relation between species and their conservation status. To answer this question, I'll group the conservation statuses into those reflecting some kind of intervention and those without. No intervention will become a marker for risk of endangerment.\n",
    "\n",
    "After this I'll group the species categories and calculate the amount protected and not protected."
   ]
  },
  {
   "cell_type": "code",
   "execution_count": 197,
   "metadata": {},
   "outputs": [
    {
     "data": {
      "text/html": [
       "<div>\n",
       "<style scoped>\n",
       "    .dataframe tbody tr th:only-of-type {\n",
       "        vertical-align: middle;\n",
       "    }\n",
       "\n",
       "    .dataframe tbody tr th {\n",
       "        vertical-align: top;\n",
       "    }\n",
       "\n",
       "    .dataframe thead th {\n",
       "        text-align: right;\n",
       "    }\n",
       "</style>\n",
       "<table border=\"1\" class=\"dataframe\">\n",
       "  <thead>\n",
       "    <tr style=\"text-align: right;\">\n",
       "      <th></th>\n",
       "      <th>category</th>\n",
       "      <th>not_protected</th>\n",
       "      <th>protected</th>\n",
       "      <th>percentage_protected</th>\n",
       "    </tr>\n",
       "  </thead>\n",
       "  <tbody>\n",
       "    <tr>\n",
       "      <th>0</th>\n",
       "      <td>Amphibian</td>\n",
       "      <td>72</td>\n",
       "      <td>7</td>\n",
       "      <td>8.86</td>\n",
       "    </tr>\n",
       "    <tr>\n",
       "      <th>1</th>\n",
       "      <td>Bird</td>\n",
       "      <td>413</td>\n",
       "      <td>75</td>\n",
       "      <td>15.37</td>\n",
       "    </tr>\n",
       "    <tr>\n",
       "      <th>2</th>\n",
       "      <td>Fish</td>\n",
       "      <td>115</td>\n",
       "      <td>10</td>\n",
       "      <td>8.00</td>\n",
       "    </tr>\n",
       "    <tr>\n",
       "      <th>3</th>\n",
       "      <td>Mammal</td>\n",
       "      <td>146</td>\n",
       "      <td>30</td>\n",
       "      <td>17.05</td>\n",
       "    </tr>\n",
       "    <tr>\n",
       "      <th>4</th>\n",
       "      <td>Nonvascular Plant</td>\n",
       "      <td>328</td>\n",
       "      <td>5</td>\n",
       "      <td>1.50</td>\n",
       "    </tr>\n",
       "    <tr>\n",
       "      <th>5</th>\n",
       "      <td>Reptile</td>\n",
       "      <td>73</td>\n",
       "      <td>5</td>\n",
       "      <td>6.41</td>\n",
       "    </tr>\n",
       "    <tr>\n",
       "      <th>6</th>\n",
       "      <td>Vascular Plant</td>\n",
       "      <td>4216</td>\n",
       "      <td>46</td>\n",
       "      <td>1.08</td>\n",
       "    </tr>\n",
       "  </tbody>\n",
       "</table>\n",
       "</div>"
      ],
      "text/plain": [
       "            category  not_protected  protected  percentage_protected\n",
       "0          Amphibian             72          7                  8.86\n",
       "1               Bird            413         75                 15.37\n",
       "2               Fish            115         10                  8.00\n",
       "3             Mammal            146         30                 17.05\n",
       "4  Nonvascular Plant            328          5                  1.50\n",
       "5            Reptile             73          5                  6.41\n",
       "6     Vascular Plant           4216         46                  1.08"
      ]
     },
     "metadata": {},
     "output_type": "display_data"
    }
   ],
   "source": [
    "species['protected'] = species.conservation_status != 'No intervention'\n",
    "\n",
    "category_protections = species.groupby(['category', 'protected'])\\\n",
    "                        .scientific_name.nunique()\\\n",
    "                        .reset_index()\\\n",
    "                        .pivot_table(columns = 'protected',\n",
    "                                    index = 'category',\n",
    "                                    values = 'scientific_name')\\\n",
    "                        .reset_index()\n",
    "category_protections.columns = ['category', 'not_protected', 'protected']\n",
    "\n",
    "category_protections['percentage_protected'] = (category_protections.protected / \\\n",
    "                                                (category_protections.protected + category_protections.not_protected) * 100)\\\n",
    "                                                .round(2)\n",
    "display(category_protections)"
   ]
  },
  {
   "cell_type": "markdown",
   "metadata": {},
   "source": [
    "With this information, we can now visualize the percentages of protection for each species category. Based on this, mammals and birds display the highest proportion of protection with roughly 17% and 15% under protection, respectively. Thus, these species types are the most likely to be endangered among categories. The bar chart below visualizes the percentages per category."
   ]
  },
  {
   "cell_type": "code",
   "execution_count": 198,
   "metadata": {},
   "outputs": [
    {
     "data": {
      "image/png": "[encoded data removed]",
      "text/plain": [
       "<Figure size 720x360 with 1 Axes>"
      ]
     },
     "metadata": {
      "needs_background": "light"
     },
     "output_type": "display_data"
    },
    {
     "data": {
      "text/plain": [
       "<Figure size 432x288 with 0 Axes>"
      ]
     },
     "metadata": {},
     "output_type": "display_data"
    }
   ],
   "source": [
    "plt.figure(figsize=(10,5))\n",
    "sns.barplot(data = category_protections, y = 'percentage_protected', x = 'category')\n",
    "plt.show()\n",
    "plt.clf()"
   ]
  },
  {
   "cell_type": "markdown",
   "metadata": {},
   "source": [
    "### Q: Are the differences between species and their conservation status significant?\n",
    "\n",
    "The question of statistical significance for categorical variables is answered in statistics by use of the chi-square test. \n",
    "\n",
    "Since crosstabulating both variables would yield a complex result, it's better to break down the question into pairs of species categories. Since based on the previous question mammals are the most protected category, I'll compare the significance of other category differences with mammals. \n",
    "\n",
    "I'll start by permutating the pairs of categories with mammals. Then I'll loop over this list to perform the chi-square tests for each pair and plot the p-values to find the statistically significant differences among category pairs.\n"
   ]
  },
  {
   "cell_type": "code",
   "execution_count": 199,
   "metadata": {},
   "outputs": [
    {
     "data": {
      "text/html": [
       "<div>\n",
       "<style scoped>\n",
       "    .dataframe tbody tr th:only-of-type {\n",
       "        vertical-align: middle;\n",
       "    }\n",
       "\n",
       "    .dataframe tbody tr th {\n",
       "        vertical-align: top;\n",
       "    }\n",
       "\n",
       "    .dataframe thead th {\n",
       "        text-align: right;\n",
       "    }\n",
       "</style>\n",
       "<table border=\"1\" class=\"dataframe\">\n",
       "  <thead>\n",
       "    <tr style=\"text-align: right;\">\n",
       "      <th></th>\n",
       "      <th>Animal Pair</th>\n",
       "      <th>p-value</th>\n",
       "    </tr>\n",
       "  </thead>\n",
       "  <tbody>\n",
       "    <tr>\n",
       "      <th>0</th>\n",
       "      <td>Bird</td>\n",
       "      <td>68.76</td>\n",
       "    </tr>\n",
       "    <tr>\n",
       "      <th>2</th>\n",
       "      <td>Amphibian</td>\n",
       "      <td>12.76</td>\n",
       "    </tr>\n",
       "    <tr>\n",
       "      <th>1</th>\n",
       "      <td>Reptile</td>\n",
       "      <td>3.84</td>\n",
       "    </tr>\n",
       "    <tr>\n",
       "      <th>3</th>\n",
       "      <td>Fish</td>\n",
       "      <td>3.52</td>\n",
       "    </tr>\n",
       "    <tr>\n",
       "      <th>4</th>\n",
       "      <td>Vascular Plant</td>\n",
       "      <td>0.00</td>\n",
       "    </tr>\n",
       "    <tr>\n",
       "      <th>5</th>\n",
       "      <td>Nonvascular Plant</td>\n",
       "      <td>0.00</td>\n",
       "    </tr>\n",
       "  </tbody>\n",
       "</table>\n",
       "</div>"
      ],
      "text/plain": [
       "         Animal Pair  p-value\n",
       "0               Bird    68.76\n",
       "2          Amphibian    12.76\n",
       "1            Reptile     3.84\n",
       "3               Fish     3.52\n",
       "4     Vascular Plant     0.00\n",
       "5  Nonvascular Plant     0.00"
      ]
     },
     "metadata": {},
     "output_type": "display_data"
    },
    {
     "data": {
      "image/png": "[encoded data removed]",
      "text/plain": [
       "<Figure size 720x360 with 1 Axes>"
      ]
     },
     "metadata": {
      "needs_background": "light"
     },
     "output_type": "display_data"
    }
   ],
   "source": [
    "from scipy.stats import chi2_contingency\n",
    "\n",
    "# Permutations\n",
    "categories = list(species.category.unique())\n",
    "combinations_mammal = [['Mammal', i] for i in categories][1:]\n",
    "category_protections_part = category_protections.iloc[:, 0:3]\n",
    "category_protections_part = category_protections_part.set_index('category')\n",
    "\n",
    "# Significant Differences Data\n",
    "sign_data = {'Animal Pair': [], 'p-value': []}\n",
    "for pair in combinations_mammal:\n",
    "    contingency_table = pd.DataFrame({pair[0]: category_protections_part.loc[pair[0]],\n",
    "                                    pair[1]: category_protections_part.loc[pair[1]]}) \n",
    "    chi2, pval, dof, expected = chi2_contingency(contingency_table)\n",
    "    sign_data['Animal Pair'].append(pair[1])\n",
    "    sign_data['p-value'].append((pval*100).round(2))\n",
    "sign_data = pd.DataFrame(data = sign_data).sort_values('p-value', ascending=False)\n",
    "display(sign_data)\n",
    "\n",
    "# Plot\n",
    "plt.subplots(figsize=(10,5))\n",
    "ax =sns.barplot(data = sign_data, x = 'Animal Pair', y = 'p-value')\n",
    "plt.title('Statistical Significance of Protection Statuses per Animal\\n(difference with mammals)')\n",
    "plt.axhline(5, color='red')\n",
    "ax.set_xlabel(\"\")\n",
    "ax.set_ylabel('p-value in percent\\n(alpha = 5%)')\n",
    "# plt.xticks(rotation=45)\n",
    "ax.bar_label(ax.containers[0])\n",
    "plt.show()\n"
   ]
  },
  {
   "cell_type": "markdown",
   "metadata": {},
   "source": [
    "The above graph illustrates the p-values for the chi-square tests performed for each animal category against mammals. Given an alpha of 5%, the analysis shows that birds and amphibians display no statistically significant differences in their conservations statuses compared to mammals. However, all other categories such as reptiles, fishes and plants show statistically significant differences in their conservation statuses when comapred to mammals. "
   ]
  },
  {
   "cell_type": "markdown",
   "metadata": {},
   "source": [
    "### Q: Which species were spotted the most at each park?\n",
    "\n",
    "This final section will concern the second dataset, `observations`, to quantify the amount of observations per species in each of the parks listed. \n",
    "\n",
    "Since the dataset doesn't include common names, I'll use the `species` dataset to merge these names into the `observations` dataset. Then, I'll group the data by park and by species/common names, and sum their observations to rank the most spoted species per park."
   ]
  },
  {
   "cell_type": "code",
   "execution_count": 308,
   "metadata": {},
   "outputs": [
    {
     "data": {
      "text/html": [
       "<div>\n",
       "<style scoped>\n",
       "    .dataframe tbody tr th:only-of-type {\n",
       "        vertical-align: middle;\n",
       "    }\n",
       "\n",
       "    .dataframe tbody tr th {\n",
       "        vertical-align: top;\n",
       "    }\n",
       "\n",
       "    .dataframe thead th {\n",
       "        text-align: right;\n",
       "    }\n",
       "</style>\n",
       "<table border=\"1\" class=\"dataframe\">\n",
       "  <thead>\n",
       "    <tr style=\"text-align: right;\">\n",
       "      <th></th>\n",
       "      <th>park_name</th>\n",
       "      <th>scientific_name</th>\n",
       "      <th>common_names</th>\n",
       "      <th>category</th>\n",
       "      <th>observations</th>\n",
       "    </tr>\n",
       "  </thead>\n",
       "  <tbody>\n",
       "    <tr>\n",
       "      <th>0</th>\n",
       "      <td>Yellowstone National Park</td>\n",
       "      <td>Holcus lanatus</td>\n",
       "      <td>Common Velvet Grass, Velvetgrass</td>\n",
       "      <td>Vascular Plant</td>\n",
       "      <td>805</td>\n",
       "    </tr>\n",
       "    <tr>\n",
       "      <th>1</th>\n",
       "      <td>Yellowstone National Park</td>\n",
       "      <td>Puma concolor</td>\n",
       "      <td>Panther (Mountain Lion)</td>\n",
       "      <td>Mammal</td>\n",
       "      <td>753</td>\n",
       "    </tr>\n",
       "    <tr>\n",
       "      <th>2</th>\n",
       "      <td>Yellowstone National Park</td>\n",
       "      <td>Procyon lotor</td>\n",
       "      <td>Common Raccoon, Raccoon</td>\n",
       "      <td>Mammal</td>\n",
       "      <td>745</td>\n",
       "    </tr>\n",
       "    <tr>\n",
       "      <th>3</th>\n",
       "      <td>Yellowstone National Park</td>\n",
       "      <td>Hypochaeris radicata</td>\n",
       "      <td>Cat's Ear, Spotted Cat's-Ear</td>\n",
       "      <td>Vascular Plant</td>\n",
       "      <td>726</td>\n",
       "    </tr>\n",
       "    <tr>\n",
       "      <th>4</th>\n",
       "      <td>Yellowstone National Park</td>\n",
       "      <td>Columba livia</td>\n",
       "      <td>Rock Dove</td>\n",
       "      <td>Bird</td>\n",
       "      <td>722</td>\n",
       "    </tr>\n",
       "  </tbody>\n",
       "</table>\n",
       "</div>"
      ],
      "text/plain": [
       "                   park_name       scientific_name  \\\n",
       "0  Yellowstone National Park        Holcus lanatus   \n",
       "1  Yellowstone National Park         Puma concolor   \n",
       "2  Yellowstone National Park         Procyon lotor   \n",
       "3  Yellowstone National Park  Hypochaeris radicata   \n",
       "4  Yellowstone National Park         Columba livia   \n",
       "\n",
       "                       common_names        category  observations  \n",
       "0  Common Velvet Grass, Velvetgrass  Vascular Plant           805  \n",
       "1           Panther (Mountain Lion)          Mammal           753  \n",
       "2           Common Raccoon, Raccoon          Mammal           745  \n",
       "3      Cat's Ear, Spotted Cat's-Ear  Vascular Plant           726  \n",
       "4                         Rock Dove            Bird           722  "
      ]
     },
     "metadata": {},
     "output_type": "display_data"
    }
   ],
   "source": [
    "merged_df = observations.merge(species[['category', 'scientific_name', 'common_names']], how='left')\n",
    "merged_df = merged_df.drop_duplicates()\n",
    "\n",
    "merged_df_grouped = merged_df.groupby(['park_name', 'scientific_name', 'common_names', 'category']).observations\\\n",
    "                        .sum().sort_values(ascending=False)\\\n",
    "                        .reset_index()\n",
    "display(merged_df_grouped.head())"
   ]
  },
  {
   "cell_type": "markdown",
   "metadata": {},
   "source": [
    "The previous table shows the number of observations for each species, grouped by park. To answer the question above, I'll create a table with the max value of observations per park, to show the species that was most spotted in each of the parks."
   ]
  },
  {
   "cell_type": "code",
   "execution_count": 307,
   "metadata": {},
   "outputs": [
    {
     "data": {
      "text/html": [
       "<div>\n",
       "<style scoped>\n",
       "    .dataframe tbody tr th:only-of-type {\n",
       "        vertical-align: middle;\n",
       "    }\n",
       "\n",
       "    .dataframe tbody tr th {\n",
       "        vertical-align: top;\n",
       "    }\n",
       "\n",
       "    .dataframe thead th {\n",
       "        text-align: right;\n",
       "    }\n",
       "</style>\n",
       "<table border=\"1\" class=\"dataframe\">\n",
       "  <thead>\n",
       "    <tr style=\"text-align: right;\">\n",
       "      <th></th>\n",
       "      <th>park_name</th>\n",
       "      <th>scientific_name</th>\n",
       "      <th>common_names</th>\n",
       "      <th>category</th>\n",
       "      <th>observations</th>\n",
       "    </tr>\n",
       "  </thead>\n",
       "  <tbody>\n",
       "    <tr>\n",
       "      <th>0</th>\n",
       "      <td>Yellowstone National Park</td>\n",
       "      <td>Holcus lanatus</td>\n",
       "      <td>Common Velvet Grass, Velvetgrass</td>\n",
       "      <td>Vascular Plant</td>\n",
       "      <td>805</td>\n",
       "    </tr>\n",
       "    <tr>\n",
       "      <th>112</th>\n",
       "      <td>Yosemite National Park</td>\n",
       "      <td>Hypochaeris radicata</td>\n",
       "      <td>Cat's Ear, Spotted Cat's-Ear</td>\n",
       "      <td>Vascular Plant</td>\n",
       "      <td>505</td>\n",
       "    </tr>\n",
       "    <tr>\n",
       "      <th>298</th>\n",
       "      <td>Bryce National Park</td>\n",
       "      <td>Columba livia</td>\n",
       "      <td>Rock Dove</td>\n",
       "      <td>Bird</td>\n",
       "      <td>339</td>\n",
       "    </tr>\n",
       "    <tr>\n",
       "      <th>2402</th>\n",
       "      <td>Great Smoky Mountains National Park</td>\n",
       "      <td>Streptopelia decaocto</td>\n",
       "      <td>Eurasian Collared-Dove</td>\n",
       "      <td>Bird</td>\n",
       "      <td>256</td>\n",
       "    </tr>\n",
       "  </tbody>\n",
       "</table>\n",
       "</div>"
      ],
      "text/plain": [
       "                                park_name        scientific_name  \\\n",
       "0               Yellowstone National Park         Holcus lanatus   \n",
       "112                Yosemite National Park   Hypochaeris radicata   \n",
       "298                   Bryce National Park          Columba livia   \n",
       "2402  Great Smoky Mountains National Park  Streptopelia decaocto   \n",
       "\n",
       "                          common_names        category  observations  \n",
       "0     Common Velvet Grass, Velvetgrass  Vascular Plant           805  \n",
       "112       Cat's Ear, Spotted Cat's-Ear  Vascular Plant           505  \n",
       "298                          Rock Dove            Bird           339  \n",
       "2402            Eurasian Collared-Dove            Bird           256  "
      ]
     },
     "metadata": {},
     "output_type": "display_data"
    }
   ],
   "source": [
    "merged_df_grouped_max = merged_df_grouped.loc[merged_df_grouped\\\n",
    "                                                    .groupby(['park_name'])\\\n",
    "                                                    ['observations'].idxmax()]\\\n",
    "                                                .sort_values(by = 'observations', ascending=False)\n",
    "display(merged_df_grouped_max)"
   ]
  },
  {
   "cell_type": "markdown",
   "metadata": {},
   "source": [
    "## Conclusions\n",
    "\n",
    "This project successfully answered the question stated at the beginning of this report, regarding the distribution of species and their conservation statuses among the four parks. To better explain the data, different visualizations were used to depict the conclusions to be drawn from the analysis. \n",
    "\n",
    "Below is a summary of the answers to the questions posed at the start of the report:\n",
    "\n",
    "- What is the distribution of conservation status for species?\n",
    "  - 5363 species are not protected under some conservation status. Of the remaining 178, most species are under the status of *species of concern*, especially birds and vascular plants.\n",
    "- Are certain types of species more likely to be endangered?\n",
    "  - Mammals and birds have the highest proportion of protection, revealing their higher risk of endangerement compared to the other categories.\n",
    "- Are the differences between species and their conservation status significant?\n",
    "  - In a comparisson with mammals, species such as amphibians, reptiles, fishes, and plants showed statistically significant differences in conservation proportion. Birds however did not exhibit a significant difference.\n",
    "- Which animal is most prevalent and what is their distribution amongst parks?\n",
    "    - The most common species recorded was the common velvet grass, a vascular plant, in Yellowstome National Park, while the Dove was the most commonly observed species both in Bryce and Great Smoky Mountains National Parks. In Yosemite the most observed species was the cat's ear plant."
   ]
  }
 ],
 "metadata": {
  "kernelspec": {
   "display_name": "Python 3 (ipykernel)",
   "language": "python",
   "name": "python3"
  },
  "language_info": {
   "codemirror_mode": {
    "name": "ipython",
    "version": 3
   },
   "file_extension": ".py",
   "mimetype": "text/x-python",
   "name": "python",
   "nbconvert_exporter": "python",
   "pygments_lexer": "ipython3",
   "version": "3.10.5"
  },
  "vscode": {
   "interpreter": {
    "hash": "949777d72b0d2535278d3dc13498b2535136f6dfe0678499012e853ee9abcab1"
   }
  }
 },
 "nbformat": 4,
 "nbformat_minor": 4
}
