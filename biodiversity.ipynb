{
 "cells": [
  {
   "cell_type": "markdown",
   "metadata": {},
   "source": [
    "# Biodiversity in National Parks"
   ]
  },
  {
   "cell_type": "markdown",
   "metadata": {},
   "source": [
    "This project investigates biodiversity data from the National Parks Service about endangered species in various parks, especially on the conservation statuses of these species, to see if there are any patterns to the types of species that become endangered. \n",
    "\n",
    "The aim of this project will be to scope, clean up, analyze, plot data, and seek to explain findings from the analysis in a meaningful way.\n",
    "\n",
    "**Sources:**\n",
    "Both `Observations.csv` and `Species_info.csv` was provided by [Codecademy.com](https://www.codecademy.com).\n",
    "\n",
    "Note: The data for this project is mostly fictional, inspired by real data."
   ]
  },
  {
   "cell_type": "markdown",
   "metadata": {},
   "source": [
    "## Scoping\n",
    "\n",
    "### Project Goals\n",
    "\n",
    "The project will analyze data from the National Parks Service, with the goal of understanding characteristics about the species and their conservations status, and those species and their relationship to the national parks.\n",
    "\n",
    "Some of the questions to be tackled include:\n",
    "- What is the distribution of conservation status for animals?\n",
    "- Are certain types of species more likely to be endangered?\n",
    "- Are the differences between species and their conservation status significant?\n",
    "- Which species were spotted the most at each park?\n",
    "\n",
    "### Data\n",
    "\n",
    "The project has two datasets that came with the .zip file used. The first `.csv` file contains data about different species and their conservation status. The second `.csv` file holds recorded sightings of different species at several national parks for the past 7 days.\n",
    "\n",
    "### Analysis \n",
    "\n",
    "The analysis consists of the use of descriptive statistics and data visualization techniques to understand the data. Some of the key metrics that will be computed include: \n",
    "\n",
    "1. Distribution and counts\n",
    "2. ...\n",
    "\n",
    "### Evaluation\n",
    "\n",
    "Lastly, I'll revisit the project's goals and summarize the output of the analysis using the initally stated questions. Any open questions will also be suggested which can include limitations in the analysis or suggestions on additional questions that can be answered with the data."
   ]
  },
  {
   "cell_type": "markdown",
   "metadata": {},
   "source": [
    "## Importing Modules and Data from Files"
   ]
  },
  {
   "cell_type": "markdown",
   "metadata": {},
   "source": [
    "First, I'll import the preliminary modules for this project, along with the data from the two separate files provided for this analysis."
   ]
  },
  {
   "cell_type": "code",
   "execution_count": 311,
   "metadata": {},
   "outputs": [],
   "source": [
    "import pandas as pd\n",
    "import numpy as np\n",
    "import statsmodels as st\n",
    "from matplotlib import pyplot as pyplot\n",
    "import seaborn as sns\n",
    "from glob import glob\n",
    "\n",
    "\n",
    "observations = pd.read_csv('observations.csv')\n",
    "species = pd.read_csv('species_info.csv')"
   ]
  },
  {
   "cell_type": "markdown",
   "metadata": {},
   "source": [
    "## Data Characteristics"
   ]
  },
  {
   "cell_type": "markdown",
   "metadata": {},
   "source": [
    "To prepare the data for analysis, I'll first scope both datasets using the `.head()` and `.info()` functions."
   ]
  },
  {
   "cell_type": "markdown",
   "metadata": {},
   "source": [
    "### `species`\n",
    "\n",
    "The `species` dataset shows 5824 entries with are four variables (i.e. columns):\n",
    "\n",
    "- **category** - taxonomy for each species.\n",
    "- **scientific_name** - scientific name of each species.\n",
    "- **common_names** - common names of each species.\n",
    "- **conservation_status** - species' conservation status.\n",
    "\n",
    "The last column shows discrepancies in the number of entries, indicating there is missing data."
   ]
  },
  {
   "cell_type": "code",
   "execution_count": 312,
   "metadata": {},
   "outputs": [
    {
     "name": "stdout",
     "output_type": "stream",
     "text": [
      "Species\n",
      "<class 'pandas.core.frame.DataFrame'>\n",
      "RangeIndex: 5824 entries, 0 to 5823\n",
      "Data columns (total 4 columns):\n",
      " #   Column               Non-Null Count  Dtype \n",
      "---  ------               --------------  ----- \n",
      " 0   category             5824 non-null   object\n",
      " 1   scientific_name      5824 non-null   object\n",
      " 2   common_names         5824 non-null   object\n",
      " 3   conservation_status  191 non-null    object\n",
      "dtypes: object(4)\n",
      "memory usage: 182.1+ KB\n",
      "None\n"
     ]
    }
   ],
   "source": [
    "print('Species')\n",
    "print(species.info())\n",
    "# print(species.head())"
   ]
  },
  {
   "cell_type": "markdown",
   "metadata": {},
   "source": [
    "The dtypes for the columns might be better if I changed them, both for performance as well as adequate data type. To see which dtype would be most appropriate, I'll sample the unique values of each column, in particular the categorical variables such as `category` and `conservation_status`, and change them to categorical types if possible."
   ]
  },
  {
   "cell_type": "code",
   "execution_count": 313,
   "metadata": {},
   "outputs": [
    {
     "name": "stdout",
     "output_type": "stream",
     "text": [
      "['Mammal' 'Bird' 'Reptile' 'Amphibian' 'Fish' 'Vascular Plant'\n",
      " 'Nonvascular Plant'] \n",
      "\n",
      "[nan 'Species of Concern' 'Endangered' 'Threatened' 'In Recovery'] \n",
      "\n",
      "<class 'pandas.core.frame.DataFrame'>\n",
      "RangeIndex: 5824 entries, 0 to 5823\n",
      "Data columns (total 4 columns):\n",
      " #   Column               Non-Null Count  Dtype   \n",
      "---  ------               --------------  -----   \n",
      " 0   category             5824 non-null   category\n",
      " 1   scientific_name      5824 non-null   string  \n",
      " 2   common_names         5824 non-null   string  \n",
      " 3   conservation_status  191 non-null    category\n",
      "dtypes: category(2), string(2)\n",
      "memory usage: 103.0 KB\n",
      "None\n"
     ]
    }
   ],
   "source": [
    "print(species.category.unique(), '\\n')\n",
    "print(species.conservation_status.unique(), '\\n')\n",
    "\n",
    "species = species.astype({'category': 'category', \n",
    "                        'conservation_status': 'category',\n",
    "                        # I'll also change the other columns to string variables \n",
    "                        'scientific_name': 'string', \n",
    "                        'common_names': 'string'})\n",
    "print(species.info())"
   ]
  },
  {
   "cell_type": "markdown",
   "metadata": {},
   "source": [
    "### `observations`\n",
    "\n",
    "Exploration of the `observations` dataset shows there are three columns:\n",
    "\n",
    "- **scientific_name** - scientific name of each species.\n",
    "- **park_name** - name of the national park species are located in.\n",
    "- **observations** - number of observations in the past 7 days.\n",
    "\n",
    "The columns don't show any missing data, however the dtypes for the first two columns should be changed to a string type."
   ]
  },
  {
   "cell_type": "code",
   "execution_count": 314,
   "metadata": {},
   "outputs": [
    {
     "name": "stdout",
     "output_type": "stream",
     "text": [
      "Observations\n",
      "<class 'pandas.core.frame.DataFrame'>\n",
      "RangeIndex: 23296 entries, 0 to 23295\n",
      "Data columns (total 3 columns):\n",
      " #   Column           Non-Null Count  Dtype \n",
      "---  ------           --------------  ----- \n",
      " 0   scientific_name  23296 non-null  object\n",
      " 1   park_name        23296 non-null  object\n",
      " 2   observations     23296 non-null  int64 \n",
      "dtypes: int64(1), object(2)\n",
      "memory usage: 546.1+ KB\n",
      "None \n",
      "\n",
      "<class 'pandas.core.frame.DataFrame'>\n",
      "RangeIndex: 23296 entries, 0 to 23295\n",
      "Data columns (total 3 columns):\n",
      " #   Column           Non-Null Count  Dtype \n",
      "---  ------           --------------  ----- \n",
      " 0   scientific_name  23296 non-null  string\n",
      " 1   park_name        23296 non-null  string\n",
      " 2   observations     23296 non-null  int64 \n",
      "dtypes: int64(1), string(2)\n",
      "memory usage: 546.1 KB\n",
      "None\n"
     ]
    }
   ],
   "source": [
    "print('Observations')\n",
    "\n",
    "print(observations.info(), '\\n')\n",
    "# print(observations.head())\n",
    "\n",
    "observations = observations.astype({'scientific_name': 'string', 'park_name': 'string'})\n",
    "print(observations.info())"
   ]
  },
  {
   "cell_type": "markdown",
   "metadata": {},
   "source": [
    "## Exploratory Data Analysis\n",
    "\n",
    "I'll start by exploring the `species` dataset more in detail. To obtain various aspects of each column, I've created a function that loops over the columns list and printed out the unique values, the length of nun-null values, and a preview of the top most frequent values. The exploration shows there are 7 types of species, 5541 species, 5504 common names and 4 conservation statuses."
   ]
  },
  {
   "cell_type": "code",
   "execution_count": 315,
   "metadata": {},
   "outputs": [
    {
     "name": "stdout",
     "output_type": "stream",
     "text": [
      "---------------category---------------\n",
      "Unique values: 7 \t Length: 5824 \t Missing values: 0\n",
      "               index  category\n",
      "0     Vascular Plant      4470\n",
      "1               Bird       521\n",
      "2  Nonvascular Plant       333\n",
      "3             Mammal       214\n",
      "---------------scientific_name---------------\n",
      "Unique values: 5541 \t Length: 5824 \t Missing values: 0\n",
      "                  index  scientific_name\n",
      "0     Castor canadensis                3\n",
      "1  Hypochaeris radicata                3\n",
      "2         Columba livia                3\n",
      "3         Puma concolor                3\n",
      "---------------common_names---------------\n",
      "Unique values: 5504 \t Length: 5824 \t Missing values: 0\n",
      "                index  common_names\n",
      "0  Brachythecium Moss             7\n",
      "1       Dicranum Moss             7\n",
      "2         Panic Grass             6\n",
      "3          Bryum Moss             6\n",
      "---------------conservation_status---------------\n",
      "Unique values: 4 \t Length: 191 \t Missing values: 5633\n",
      "                index  conservation_status\n",
      "0  Species of Concern                  161\n",
      "1          Endangered                   16\n",
      "2          Threatened                   10\n",
      "3         In Recovery                    4\n"
     ]
    }
   ],
   "source": [
    "def column_eda(dataset):\n",
    "    cols = list(dataset.columns)\n",
    "    for col in cols:\n",
    "        print(f'---------------{col}---------------')\n",
    "        print(f'Unique values:', dataset[col].nunique(), '\\t', \n",
    "                f'Length: {dataset[col].notnull().sum()}', '\\t', \n",
    "                f'Missing values: {dataset[col].isnull().sum()}')\n",
    "        print(dataset[col].value_counts().reset_index().head(4))\n",
    "\n",
    "column_eda(species)"
   ]
  },
  {
   "cell_type": "markdown",
   "metadata": {},
   "source": [
    "Some preliminary remarks can be made from a first glance:\n",
    "- `conservation_status` displays a high number of `nan` values (5633), which, given the available categories, may well be treated as 'species of no concern' or 'not endangered/threatened'.\n",
    "- The discrepancy between unique values of `scientific_name` and `common_names` along with the equal amount of non-null values may show that some entries use the same common name as other species in the dataset.\n",
    "- The lesser amount of `scientific_name` compared to the total number of entries may point to multiple observations with the same scientific name.\n",
    "\n",
    "To attent the first observation, I'll change the missing values in the `conservation_status` column to \"No concern\"."
   ]
  },
  {
   "cell_type": "code",
   "execution_count": 316,
   "metadata": {},
   "outputs": [
    {
     "name": "stdout",
     "output_type": "stream",
     "text": [
      "[NaN, 'Species of Concern', 'Endangered', 'Threatened', 'In Recovery']\n",
      "Categories (4, object): ['Endangered', 'In Recovery', 'Species of Concern', 'Threatened'] \n",
      "\n",
      "['No concern', 'Species of Concern', 'Endangered', 'Threatened', 'In Recovery']\n",
      "Categories (5, object): ['Endangered', 'In Recovery', 'Species of Concern', 'Threatened', 'No concern']\n"
     ]
    }
   ],
   "source": [
    "print(species.conservation_status.unique(), '\\n')\n",
    "\n",
    "species.conservation_status = species.conservation_status.cat.add_categories('No concern').fillna('No concern')\n",
    "\n",
    "print(species.conservation_status.unique())"
   ]
  },
  {
   "cell_type": "markdown",
   "metadata": {},
   "source": [
    "To confirm the second observation, I'll scope the dataset for duplicates both overall and in each of those columns."
   ]
  },
  {
   "cell_type": "code",
   "execution_count": 347,
   "metadata": {},
   "outputs": [
    {
     "name": "stdout",
     "output_type": "stream",
     "text": [
      "Overall duplicates (rows): 0 \n",
      "\n",
      "Number of duplicated common names 320 \n",
      "\n",
      "----Common_name duplicate count----\n",
      "          common_names  0\n",
      "0  Brachythecium Moss  7\n",
      "1       Dicranum Moss  7\n",
      "2         Panic Grass  6\n",
      "3            Sphagnum  6\n",
      "4          Bryum Moss  6 \n",
      "Total duplicated: 248 \n",
      "\n",
      "----Example of repeated common name: Brachythecium Moss----\n",
      "             common_names           scientific_name\n",
      "2812  Brachythecium Moss   Brachythecium digastrum\n",
      "2813  Brachythecium Moss  Brachythecium oedipodium\n",
      "2814  Brachythecium Moss   Brachythecium oxycladon\n",
      "2815  Brachythecium Moss    Brachythecium plumosum\n",
      "2816  Brachythecium Moss    Brachythecium rivulare\n",
      "2817  Brachythecium Moss   Brachythecium rutabulum\n",
      "2818  Brachythecium Moss  Brachythecium salebrosum\n"
     ]
    }
   ],
   "source": [
    "duplicates = species[species.duplicated()]\n",
    "print(f'Overall duplicates (rows): {len(duplicates)}', '\\n')\n",
    "\n",
    "repeated_common_names = species.common_names[species.common_names.duplicated()]\n",
    "print(f'Number of duplicated common names {len(repeated_common_names)}', '\\n')\n",
    "\n",
    "common_name_dupl_count = species.pivot_table(columns=['common_names'], aggfunc='size')\\\n",
    "                                .sort_values(ascending=False).reset_index()\n",
    "print('----Common_name duplicate count----\\n', common_name_dupl_count.head(), '\\n'\\\n",
    "    f'Total duplicated: {len(common_name_dupl_count[common_name_dupl_count[0] > 1])}', '\\n')\n",
    "\n",
    "Brachythecium_Moss_rep = species.loc[species['common_names'] == 'Brachythecium Moss', \n",
    "                                    ['common_names', 'scientific_name']\n",
    "                                    ]\n",
    "print('----Example of repeated common name: Brachythecium Moss----\\n', Brachythecium_Moss_rep)"
   ]
  },
  {
   "cell_type": "markdown",
   "metadata": {},
   "source": [
    "Regarding the third observation, if scientific names are repeated, this begs the question of if these reflect duplicates or unique observations with particular differences. The first possibility has been ruled out by the previous inspection for duplicate rows. I'll explore the second possibility by printing out the rows with repeated scientific names."
   ]
  },
  {
   "cell_type": "code",
   "execution_count": 344,
   "metadata": {},
   "outputs": [
    {
     "name": "stdout",
     "output_type": "stream",
     "text": [
      "Number of duplicated common names 283 \n",
      "\n",
      "----Scientific name duplicate count----\n",
      "      scientific_name  0\n",
      "0        Canis lupus  3\n",
      "1     Holcus lanatus  3\n",
      "2      Puma concolor  3\n",
      "3   Myotis lucifugus  3\n",
      "4  Castor canadensis  3 \n",
      "Total duplicated: 274 \n",
      "\n",
      "----Example of repeated common name: Canis lupus----\n",
      "      category scientific_name     common_names conservation_status\n",
      "8      Mammal     Canis lupus        Gray Wolf          Endangered\n",
      "3020   Mammal     Canis lupus  Gray Wolf, Wolf         In Recovery\n",
      "4448   Mammal     Canis lupus  Gray Wolf, Wolf          Endangered \n",
      "\n",
      "----Example of repeated common name: Myotis lucifugus----\n",
      "      category   scientific_name  \\\n",
      "37     Mammal  Myotis lucifugus   \n",
      "3042   Mammal  Myotis lucifugus   \n",
      "4467   Mammal  Myotis lucifugus   \n",
      "\n",
      "                                           common_names conservation_status  \n",
      "37                Little Brown Bat, Little Brown Myotis  Species of Concern  \n",
      "3042  Little Brown Bat, Little Brown Myotis, Little ...  Species of Concern  \n",
      "4467                                Little Brown Myotis  Species of Concern   \n",
      "\n"
     ]
    }
   ],
   "source": [
    "repeated_sci_names = species.common_names[species.scientific_name.duplicated()]\n",
    "print(f'Number of duplicated common names {len(repeated_sci_names)}', '\\n')\n",
    "\n",
    "scientific_name_dupl_count = species.pivot_table(columns=['scientific_name'], aggfunc='size')\\\n",
    "                                .sort_values(ascending=False).reset_index()\n",
    "print('----Scientific name duplicate count----\\n', scientific_name_dupl_count.head(), '\\n'\\\n",
    "    f'Total duplicated: {len(scientific_name_dupl_count[scientific_name_dupl_count[0] > 1])}', '\\n')\n",
    "\n",
    "Canis_lupus_rep = species.loc[species['scientific_name'] == 'Canis lupus']\n",
    "print('----Example of repeated common name: Canis lupus----\\n', Canis_lupus_rep, '\\n')\n",
    "\n",
    "Myotis_lucifugus_rep = species.loc[species['scientific_name'] == 'Myotis lucifugus']\n",
    "print('----Example of repeated common name: Myotis lucifugus----\\n', Myotis_lucifugus_rep, '\\n')"
   ]
  },
  {
   "cell_type": "markdown",
   "metadata": {},
   "source": [
    "Based on the above analysis, there are various species recorded multiple times with different or multiple common names and some with different conservations statuses. This poses a problem for further analysis. \n",
    "\n",
    "A possible solution might be to enter each repeated species once, with (1) the most informatic `common_name` and (2) the worst `conservation_status`. The first step assumes longer `common_name` contain lists of all *possible* common names for a given species (as seen in the two examples printed above). The second step assumes a fatalistic view of a specie's conservation status, which will consequently favor more severe statuses and obscure positive progress of a specie's conservation."
   ]
  },
  {
   "cell_type": "code",
   "execution_count": 351,
   "metadata": {},
   "outputs": [
    {
     "name": "stdout",
     "output_type": "stream",
     "text": [
      "     category         scientific_name                          common_names  \\\n",
      "3017   Mammal          Cervus elaphus                    Rocky Mountain Elk   \n",
      "3019   Mammal  Odocoileus virginianus  White-Tailed Deer, White-Tailed Deer   \n",
      "3020   Mammal             Canis lupus                       Gray Wolf, Wolf   \n",
      "3022   Mammal           Puma concolor           Cougar, Mountain Lion, Puma   \n",
      "3025   Mammal        Lutra canadensis                           River Otter   \n",
      "\n",
      "     conservation_status  \n",
      "3017          No concern  \n",
      "3019          No concern  \n",
      "3020         In Recovery  \n",
      "3022          No concern  \n",
      "3025          No concern  \n"
     ]
    }
   ],
   "source": [
    "print(species[species.scientific_name.duplicated()].head())\n",
    "\n",
    "species = "
   ]
  }
 ],
 "metadata": {
  "kernelspec": {
   "display_name": "Python 3 (ipykernel)",
   "language": "python",
   "name": "python3"
  },
  "language_info": {
   "codemirror_mode": {
    "name": "ipython",
    "version": 3
   },
   "file_extension": ".py",
   "mimetype": "text/x-python",
   "name": "python",
   "nbconvert_exporter": "python",
   "pygments_lexer": "ipython3",
   "version": "3.10.5"
  },
  "vscode": {
   "interpreter": {
    "hash": "949777d72b0d2535278d3dc13498b2535136f6dfe0678499012e853ee9abcab1"
   }
  }
 },
 "nbformat": 4,
 "nbformat_minor": 4
}
